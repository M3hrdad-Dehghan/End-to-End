{
 "cells": [
  {
   "cell_type": "markdown",
   "id": "7db7ac24-9861-471b-9958-fb11246d734a",
   "metadata": {
    "id": "7db7ac24-9861-471b-9958-fb11246d734a",
    "jp-MarkdownHeadingCollapsed": true,
    "tags": []
   },
   "source": [
    "### <div style=\"color:white; background-color:#666; padding: 8px; border-radius: 5px\">**Setup Environment & Run Packages**</div>"
   ]
  },
  {
   "cell_type": "markdown",
   "id": "b1bdf191-936b-41c4-8d04-b983e134f3c6",
   "metadata": {},
   "source": [
    "In every project, before everything, we should import all needed libraries. It makes sense that if we need more libraries during the project, we add here."
   ]
  },
  {
   "cell_type": "code",
   "execution_count": 1,
   "id": "1b04988e-a79d-4225-bc60-58e1e4835182",
   "metadata": {
    "executionInfo": {
     "elapsed": 3076,
     "status": "ok",
     "timestamp": 1685974656277,
     "user": {
      "displayName": "Mehrdad M. Dehghan",
      "userId": "08222177611817016206"
     },
     "user_tz": 240
    },
    "id": "1b04988e-a79d-4225-bc60-58e1e4835182"
   },
   "outputs": [],
   "source": [
    "import warnings\n",
    "warnings.filterwarnings(\"ignore\")\n",
    "import numpy as np\n",
    "import pandas as pd\n",
    "import datetime\n",
    "from datetime import date"
   ]
  },
  {
   "cell_type": "markdown",
   "id": "ed358722-04ff-4665-a60b-d00e74839719",
   "metadata": {
    "id": "ed358722-04ff-4665-a60b-d00e74839719",
    "jp-MarkdownHeadingCollapsed": true,
    "tags": []
   },
   "source": [
    "### <div style=\"color:white; background-color:#666; padding: 8px; border-radius: 5px\">**Load Data**</div>"
   ]
  },
  {
   "cell_type": "markdown",
   "id": "e22e20e8-3fec-4d0e-bbbe-0a6e35da9821",
   "metadata": {
    "id": "e22e20e8-3fec-4d0e-bbbe-0a6e35da9821"
   },
   "source": [
    "First of all, we import the raw datasets"
   ]
  },
  {
   "cell_type": "code",
   "execution_count": 2,
   "id": "bbe2c421-4abd-4039-98e2-1c7e34f7fa66",
   "metadata": {
    "id": "bbe2c421-4abd-4039-98e2-1c7e34f7fa66"
   },
   "outputs": [],
   "source": [
    "customers = pd.read_csv('customers.csv')\n",
    "properties = pd.read_csv('properties.csv')"
   ]
  },
  {
   "cell_type": "markdown",
   "id": "38008538-9b7f-426a-9d6e-e008b28cd6b9",
   "metadata": {
    "id": "38008538-9b7f-426a-9d6e-e008b28cd6b9"
   },
   "source": [
    "Then we should merge two datasets into one."
   ]
  },
  {
   "cell_type": "code",
   "execution_count": 3,
   "id": "a56c4178-d64f-4646-bad0-f15a26c63f8f",
   "metadata": {
    "id": "a56c4178-d64f-4646-bad0-f15a26c63f8f"
   },
   "outputs": [],
   "source": [
    "df = pd.merge(customers, properties, on='CustomerID', how='left')"
   ]
  },
  {
   "cell_type": "markdown",
   "id": "70b2f839-f99c-4739-9ed8-a6dc99c3f512",
   "metadata": {
    "id": "70b2f839-f99c-4739-9ed8-a6dc99c3f512",
    "jp-MarkdownHeadingCollapsed": true,
    "tags": []
   },
   "source": [
    "### <div style=\"color:white; background-color:#666; padding: 8px; border-radius: 5px\">**Variable Names**</div>"
   ]
  },
  {
   "cell_type": "markdown",
   "id": "2a07ff5f-9f87-4fc3-9b01-062f6a675dae",
   "metadata": {
    "id": "2a07ff5f-9f87-4fc3-9b01-062f6a675dae"
   },
   "source": [
    "Column names provide a clear identification of the data contained within each column. By reviewing the column names, we can quickly understand the type of information stored in each column. This helps we make sense of the data and interpret it correctly."
   ]
  },
  {
   "cell_type": "code",
   "execution_count": 4,
   "id": "41991ab8-a5e7-4207-85ec-9b0a49a91438",
   "metadata": {
    "colab": {
     "base_uri": "https://localhost:8080/"
    },
    "executionInfo": {
     "elapsed": 4,
     "status": "ok",
     "timestamp": 1685843206566,
     "user": {
      "displayName": "Mehrdad M. Dehghan",
      "userId": "08222177611817016206"
     },
     "user_tz": 240
    },
    "id": "41991ab8-a5e7-4207-85ec-9b0a49a91438",
    "outputId": "4d388c53-d557-4f20-cf31-6aaf594baefb"
   },
   "outputs": [
    {
     "data": {
      "text/plain": [
       "Index(['Unnamed: 0_x', 'CustomerID', 'entity', 'name', 'surname', 'birth_date',\n",
       "       'sex', 'country', 'state', 'purpose', 'deal_satisfaction', 'mortgage',\n",
       "       'source', 'Unnamed: 0_y', 'homeid', 'building', 'date_sale', 'type',\n",
       "       'property#', 'area', 'price', 'status'],\n",
       "      dtype='object')"
      ]
     },
     "execution_count": 4,
     "metadata": {},
     "output_type": "execute_result"
    }
   ],
   "source": [
    "df.columns"
   ]
  },
  {
   "cell_type": "markdown",
   "id": "7bff8b4a",
   "metadata": {},
   "source": [
    "We don't need some columns and we remove them."
   ]
  },
  {
   "cell_type": "code",
   "execution_count": 5,
   "id": "745e8d20",
   "metadata": {},
   "outputs": [],
   "source": [
    "df = df.drop(['Unnamed: 0_x', 'entity', 'name', 'surname', 'state', 'Unnamed: 0_y', 'building','property#', 'status'] , axis=1)"
   ]
  },
  {
   "cell_type": "code",
   "execution_count": 6,
   "id": "33bdf62c",
   "metadata": {},
   "outputs": [],
   "source": [
    "col_names = {\n",
    "    'CustomerID':'CustomerID',\n",
    "    'birth_date' : 'DoB',\n",
    "    'sex' : 'Gender',\n",
    "    'country' : 'Country',\n",
    "    'purpose' : 'Purpose',\n",
    "    'deal_satisfaction' : 'Satisfaction',\n",
    "    'mortgage' : 'Mortgage',\n",
    "    'source' : 'Source',\n",
    "    'homeid' : 'PropertyID',\n",
    "    'date_sale' : 'Date',\n",
    "    'type' : 'Type',\n",
    "    'area' : 'Area',\n",
    "    'price' : 'Price',\n",
    "}\n",
    "\n",
    "df = df.rename(columns = col_names)"
   ]
  },
  {
   "cell_type": "markdown",
   "id": "fe82b9bb-759c-4ba9-8e1a-08d97e93a149",
   "metadata": {
    "id": "fe82b9bb-759c-4ba9-8e1a-08d97e93a149"
   },
   "source": [
    "Now, we change the order of the columns to have better view on them."
   ]
  },
  {
   "cell_type": "code",
   "execution_count": 7,
   "id": "a3666450",
   "metadata": {},
   "outputs": [],
   "source": [
    "col_order = ['CustomerID', 'DoB', 'Gender', 'Country', 'Purpose', 'Mortgage', 'Source', 'PropertyID', 'Type',\n",
    "            'Area','Price','Satisfaction', 'Date']\n",
    "\n",
    "df = df[col_order]"
   ]
  },
  {
   "cell_type": "code",
   "execution_count": 8,
   "id": "87e6d2d1",
   "metadata": {},
   "outputs": [
    {
     "data": {
      "text/html": [
       "<div>\n",
       "<style scoped>\n",
       "    .dataframe tbody tr th:only-of-type {\n",
       "        vertical-align: middle;\n",
       "    }\n",
       "\n",
       "    .dataframe tbody tr th {\n",
       "        vertical-align: top;\n",
       "    }\n",
       "\n",
       "    .dataframe thead th {\n",
       "        text-align: right;\n",
       "    }\n",
       "</style>\n",
       "<table border=\"1\" class=\"dataframe\">\n",
       "  <thead>\n",
       "    <tr style=\"text-align: right;\">\n",
       "      <th></th>\n",
       "      <th>CustomerID</th>\n",
       "      <th>DoB</th>\n",
       "      <th>Gender</th>\n",
       "      <th>Country</th>\n",
       "      <th>Purpose</th>\n",
       "      <th>Mortgage</th>\n",
       "      <th>Source</th>\n",
       "      <th>PropertyID</th>\n",
       "      <th>Type</th>\n",
       "      <th>Area</th>\n",
       "      <th>Price</th>\n",
       "      <th>Satisfaction</th>\n",
       "      <th>Date</th>\n",
       "    </tr>\n",
       "  </thead>\n",
       "  <tbody>\n",
       "    <tr>\n",
       "      <th>0</th>\n",
       "      <td>C0001</td>\n",
       "      <td>NaN</td>\n",
       "      <td>NaN</td>\n",
       "      <td>USA</td>\n",
       "      <td>Investment</td>\n",
       "      <td>No</td>\n",
       "      <td>Agency</td>\n",
       "      <td>1005</td>\n",
       "      <td>Office</td>\n",
       "      <td>410.71</td>\n",
       "      <td>$117,564.07</td>\n",
       "      <td>5</td>\n",
       "      <td>3/1/2004</td>\n",
       "    </tr>\n",
       "  </tbody>\n",
       "</table>\n",
       "</div>"
      ],
      "text/plain": [
       "  CustomerID  DoB Gender Country     Purpose Mortgage  Source  PropertyID  \\\n",
       "0      C0001  NaN    NaN     USA  Investment       No  Agency        1005   \n",
       "\n",
       "     Type    Area         Price  Satisfaction      Date  \n",
       "0  Office  410.71  $117,564.07              5  3/1/2004  "
      ]
     },
     "execution_count": 8,
     "metadata": {},
     "output_type": "execute_result"
    }
   ],
   "source": [
    "df.head(1)"
   ]
  },
  {
   "cell_type": "markdown",
   "id": "89665c91",
   "metadata": {
    "id": "70b2f839-f99c-4739-9ed8-a6dc99c3f512",
    "jp-MarkdownHeadingCollapsed": true,
    "tags": []
   },
   "source": [
    "### <div style=\"color:white; background-color:#666; padding: 8px; border-radius: 5px\">**Data Type Conversion**</div>"
   ]
  },
  {
   "cell_type": "markdown",
   "id": "b84c2ed5-a2a6-4b92-927a-4b349d3d0df2",
   "metadata": {
    "id": "b84c2ed5-a2a6-4b92-927a-4b349d3d0df2"
   },
   "source": [
    "Checking the data types is an important step in data cleaning because it helps ensure the consistency, accuracy, and reliability of the data."
   ]
  },
  {
   "cell_type": "code",
   "execution_count": 9,
   "id": "9500f601-c7b5-462e-942b-1c29cf3794ca",
   "metadata": {
    "colab": {
     "base_uri": "https://localhost:8080/"
    },
    "executionInfo": {
     "elapsed": 2,
     "status": "ok",
     "timestamp": 1685843206824,
     "user": {
      "displayName": "Mehrdad M. Dehghan",
      "userId": "08222177611817016206"
     },
     "user_tz": 240
    },
    "id": "9500f601-c7b5-462e-942b-1c29cf3794ca",
    "outputId": "33a38758-9113-48d4-a4fa-c64793fe9c15"
   },
   "outputs": [
    {
     "data": {
      "text/plain": [
       "CustomerID       object\n",
       "DoB              object\n",
       "Gender           object\n",
       "Country          object\n",
       "Purpose          object\n",
       "Mortgage         object\n",
       "Source           object\n",
       "PropertyID        int64\n",
       "Type             object\n",
       "Area            float64\n",
       "Price            object\n",
       "Satisfaction      int64\n",
       "Date             object\n",
       "dtype: object"
      ]
     },
     "execution_count": 9,
     "metadata": {},
     "output_type": "execute_result"
    }
   ],
   "source": [
    "df.dtypes"
   ]
  },
  {
   "cell_type": "markdown",
   "id": "a1f68761-0019-4afe-a65f-a495c0864781",
   "metadata": {
    "id": "a1f68761-0019-4afe-a65f-a495c0864781"
   },
   "source": [
    "We must check whether the data type of variables is correct or not.\n",
    "* `CustomerID`: String *(Object)*\n",
    "* `DoB`: Date *(Object)*\n",
    "* `Gender`: Nominal Categorical *(Object)*\n",
    "* `Country`: Nominal Categorical *(Object)*\n",
    "* `Purpose`: Nominal Categorical *(Object)*\n",
    "* `Mortgage`: Nominal Categorical *(Object)*\n",
    "* `Source`: Nominal Categorical *(Object)*\n",
    "* `PropertyID`: String *(Object)*\n",
    "* `Type`: Nominal Categorical *(Object)*\n",
    "* `Area`: Number *(float64-int64)*\n",
    "* `Date`: Date *(Object)*\n",
    "* `Price`: Number *(float64-int64)*\n",
    "* `Satisfaction`: Ordinal Categorical *(Object)*"
   ]
  },
  {
   "cell_type": "markdown",
   "id": "98718e97",
   "metadata": {},
   "source": [
    "Based on the above, we have to change data type:\n",
    " <li>`PropertyID` from <span style=\"color:white; background-color:red\">int64</span> to <span style=\"color:white; background-color:blue\">object</span>\n",
    " <li>`Price` from <span style=\"color:white; background-color:red\">object</span> to <span style=\"color:white; background-color:blue\">int64</span>\n",
    " <li>`Satisfaction` from <span style=\"color:white; background-color:red\">int64</span> to <span style=\"color:white; background-color:blue\">object</span>\n",
    "  <li>`DoB` & `Date` from <span style=\"color:white; background-color:red\">object</span> to <span style=\"color:white; background-color:blue\">date</span>"
   ]
  },
  {
   "cell_type": "code",
   "execution_count": 10,
   "id": "a16bb000",
   "metadata": {},
   "outputs": [
    {
     "data": {
      "text/plain": [
       "array([1005, 1002, 1044, 1043, 1033, 1038, 1018, 1021, 1036, 1045, 1035,\n",
       "       1009, 1015, 1049, 1032, 1017, 1041, 1025, 1026, 1012, 1023, 1003,\n",
       "       1006, 1027, 1011, 1029, 1030, 1007, 1008, 2023, 2030, 1016, 1040,\n",
       "       1031, 1039, 1024, 2054, 2041, 2032, 3027, 1046, 2007, 2039, 2057,\n",
       "       2037, 2005, 2050, 2026, 2015, 2033, 3015, 2029, 3007, 3030, 2020,\n",
       "       2040, 2038, 2042, 4035, 4022, 3050, 2010, 2036, 2049, 2003, 2004,\n",
       "       2006, 2044, 2022, 2011, 2047, 2014, 3001, 3043, 2025, 2018, 2009,\n",
       "       2017, 2013, 3047, 2046, 2016, 2008, 2019, 2021, 2027, 2052, 3006,\n",
       "       3044, 4025, 3031, 2048, 2028, 2043, 3049, 3034, 5033, 5035, 5039,\n",
       "       2056, 2012, 3016, 3020, 3029, 5030, 3038, 3039, 3022, 3054, 3055,\n",
       "       4031, 2035, 3008, 3040, 3025, 5016, 5019, 3059, 2034, 3021, 4051,\n",
       "       3014, 2002, 3028, 3042, 3002, 3004, 3032, 3013, 3010, 3018, 2001,\n",
       "       3046, 2051, 3019, 3011, 3026, 3005, 3033, 5013, 3012, 3048, 2024,\n",
       "       4034, 3036, 4019, 5034, 4041, 4024, 4010, 4011, 4016, 5041, 5050,\n",
       "       3003, 4005, 5027, 5028, 5021, 5022, 5025, 5046, 3009, 4012, 4006,\n",
       "       4030, 4018, 5036, 3035, 5040, 4028, 4040, 1047, 2031, 3017, 3037,\n",
       "       3053, 3041, 3023, 4049, 4013, 4023, 5051, 3052, 1013, 1014, 1019,\n",
       "       1020, 1022, 1028, 1034, 1037, 1042, 4029], dtype=int64)"
      ]
     },
     "execution_count": 10,
     "metadata": {},
     "output_type": "execute_result"
    }
   ],
   "source": [
    "df['PropertyID'].unique()"
   ]
  },
  {
   "cell_type": "code",
   "execution_count": 11,
   "id": "1db91225",
   "metadata": {},
   "outputs": [
    {
     "name": "stdout",
     "output_type": "stream",
     "text": [
      "object\n"
     ]
    }
   ],
   "source": [
    "df['PropertyID'] = df['PropertyID'].astype('object')\n",
    "print(df['PropertyID'].dtype)"
   ]
  },
  {
   "cell_type": "code",
   "execution_count": 12,
   "id": "72077751",
   "metadata": {},
   "outputs": [
    {
     "data": {
      "text/plain": [
       "array([5, 2, 3, 4, 1], dtype=int64)"
      ]
     },
     "execution_count": 12,
     "metadata": {},
     "output_type": "execute_result"
    }
   ],
   "source": [
    "df['Satisfaction'].unique()"
   ]
  },
  {
   "cell_type": "code",
   "execution_count": 13,
   "id": "52b1f28b",
   "metadata": {},
   "outputs": [
    {
     "name": "stdout",
     "output_type": "stream",
     "text": [
      "object\n"
     ]
    }
   ],
   "source": [
    "df['Satisfaction'] = df['Satisfaction'].astype('object')\n",
    "print(df['Satisfaction'].dtype)"
   ]
  },
  {
   "cell_type": "code",
   "execution_count": 14,
   "id": "2d40ef77",
   "metadata": {},
   "outputs": [
    {
     "data": {
      "text/plain": [
       "array(['$117,564.07 ', '$410,932.67 ', '$229,464.71 ', '$377,313.56 ',\n",
       "       '$412,856.56 ', '$207,581.43 ', '$191,389.87 ', '$218,585.92 ',\n",
       "       '$317,473.86 ', '$248,525.12 ', '$238,811.06 ', '$317,196.40 ',\n",
       "       '$208,930.81 ', '$467,083.31 ', '$215,410.28 ', '$432,679.91 ',\n",
       "       '$480,545.81 ', '$382,041.13 ', '$179,674.08 ', '$300,385.62 ',\n",
       "       '$261,579.89 ', '$193,660.62 ', '$198,841.70 ', '$276,759.18 ',\n",
       "       '$222,947.21 ', '$246,331.90 ', '$246,172.68 ', '$250,312.53 ',\n",
       "       '$246,050.40 ', '$219,373.41 ', '$214,341.34 ', '$224,076.84 ',\n",
       "       '$234,172.39 ', '$265,467.68 ', '$196,220.05 ', '$235,762.34 ',\n",
       "       '$306,363.64 ', '$225,050.52 ', '$306,878.46 ', '$245,572.79 ',\n",
       "       '$503,790.23 ', '$196,142.19 ', '$293,876.27 ', '$382,277.15 ',\n",
       "       '$229,581.78 ', '$257,183.48 ', '$297,008.97 ', '$198,075.99 ',\n",
       "       '$228,170.03 ', '$205,085.40 ', '$207,281.59 ', '$310,223.29 ',\n",
       "       '$231,552.33 ', '$215,774.28 ', '$241,671.52 ', '$224,463.87 ',\n",
       "       '$529,317.28 ', '$220,606.28 ', '$217,786.38 ', '$263,790.81 ',\n",
       "       '$248,274.31 ', '$326,885.34 ', '$460,001.26 ', '$323,915.81 ',\n",
       "       '$289,727.99 ', '$168,834.04 ', '$396,973.83 ', '$250,773.15 ',\n",
       "       '$344,568.74 ', '$225,401.62 ', '$214,631.68 ', '$336,695.25 ',\n",
       "       '$171,262.65 ', '$299,159.14 ', '$315,733.15 ', '$275,394.25 ',\n",
       "       '$237,060.15 ', '$199,054.20 ', '$236,639.56 ', '$188,273.73 ',\n",
       "       '$253,831.02 ', '$212,265.67 ', '$204,286.67 ', '$177,555.06 ',\n",
       "       '$217,748.48 ', '$247,739.44 ', '$484,458.03 ', '$356,506.37 ',\n",
       "       '$197,869.36 ', '$236,608.95 ', '$407,214.29 ', '$220,865.00 ',\n",
       "       '$195,153.16 ', '$355,073.40 ', '$338,181.18 ', '$256,821.64 ',\n",
       "       '$240,539.35 ', '$261,742.74 ', '$195,874.94 ', '$237,207.68 ',\n",
       "       '$226,342.80 ', '$258,572.48 ', '$310,831.21 ', '$357,538.20 ',\n",
       "       '$464,549.19 ', '$312,211.14 ', '$354,553.23 ', '$200,719.02 ',\n",
       "       '$380,809.52 ', '$200,678.75 ', '$192,092.24 ', '$219,865.76 ',\n",
       "       '$204,292.49 ', '$296,483.14 ', '$278,575.87 ', '$153,466.71 ',\n",
       "       '$367,976.46 ', '$252,927.84 ', '$225,290.22 ', '$496,266.41 ',\n",
       "       '$346,906.89 ', '$209,280.91 ', '$206,631.81 ', '$213,942.56 ',\n",
       "       '$261,871.70 ', '$210,038.70 ', '$242,740.66 ', '$253,025.78 ',\n",
       "       '$294,807.65 ', '$293,828.69 ', '$169,158.29 ', '$252,185.99 ',\n",
       "       '$376,964.62 ', '$230,154.53 ', '$203,491.85 ', '$212,520.83 ',\n",
       "       '$258,015.61 ', '$200,300.63 ', '$188,743.11 ', '$210,824.06 ',\n",
       "       '$249,075.66 ', '$456,919.46 ', '$243,052.59 ', '$358,525.59 ',\n",
       "       '$226,578.51 ', '$252,053.03 ', '$402,081.80 ', '$372,001.70 ',\n",
       "       '$223,917.34 ', '$201,518.89 ', '$244,820.67 ', '$263,123.42 ',\n",
       "       '$390,494.27 ', '$233,142.80 ', '$344,530.89 ', '$269,075.30 ',\n",
       "       '$223,577.32 ', '$234,750.59 ', '$287,466.41 ', '$165,430.28 ',\n",
       "       '$230,216.22 ', '$222,867.42 ', '$290,031.26 ', '$222,138.72 ',\n",
       "       '$310,577.04 ', '$310,832.59 ', '$286,433.57 ', '$269,278.57 ',\n",
       "       '$228,410.05 ', '$248,422.66 ', '$241,620.48 ', '$448,134.27 ',\n",
       "       '$452,667.01 ', '$205,098.21 ', '$204,808.16 ', '$190,119.50 ',\n",
       "       '$239,248.75 ', '$198,591.85 ', '$388,515.14 ', '$197,053.51 ',\n",
       "       '$235,633.26 ', '$249,591.99 ', '$291,494.36 ', '$206,958.71 ',\n",
       "       '$206,445.42 ', '$239,341.58 ', '$398,903.42 ', '$210,745.17 ',\n",
       "       '$331,154.88 ', '$204,434.68 ', '$189,194.31 ', '$204,027.09 ',\n",
       "       '$200,148.89 '], dtype=object)"
      ]
     },
     "execution_count": 14,
     "metadata": {},
     "output_type": "execute_result"
    }
   ],
   "source": [
    "df['Price'].unique()"
   ]
  },
  {
   "cell_type": "code",
   "execution_count": 15,
   "id": "91067fb1",
   "metadata": {},
   "outputs": [],
   "source": [
    "df['Price'] = pd.to_numeric(df['Price'].str.replace('[\\$,]' , '', regex=True), errors='coerce')"
   ]
  },
  {
   "cell_type": "markdown",
   "id": "dab2c3c9",
   "metadata": {
    "id": "70b2f839-f99c-4739-9ed8-a6dc99c3f512",
    "jp-MarkdownHeadingCollapsed": true,
    "tags": []
   },
   "source": [
    "### <div style=\"color:white; background-color:#666; padding: 8px; border-radius: 5px\">**Handle Missing Values**</div>"
   ]
  },
  {
   "cell_type": "markdown",
   "id": "ff611560-eee6-428e-8a1c-de852b123e0c",
   "metadata": {
    "id": "ff611560-eee6-428e-8a1c-de852b123e0c"
   },
   "source": [
    "Checking for missing values is an important step in data cleaning because missing values can have a significant impact on the quality and reliability of the data analysis. In this dataset, we must handle missing values, because we want to construct ML model and having null values in ML model would cause to have inaccurate prediction. First, we create a function to see how many missing valus we have."
   ]
  },
  {
   "cell_type": "code",
   "execution_count": 16,
   "id": "6c1cf870",
   "metadata": {},
   "outputs": [],
   "source": [
    "def null(df):\n",
    "    null_values = pd.DataFrame(df.isnull().sum())\n",
    "    null_values[1] = null_values[0]/len(df)\n",
    "    null_values.columns=['count','%pct']\n",
    "    filtered_null = null_values[null_values['%pct']>0]\n",
    "    return filtered_null"
   ]
  },
  {
   "cell_type": "code",
   "execution_count": 17,
   "id": "0951df68",
   "metadata": {},
   "outputs": [
    {
     "data": {
      "text/html": [
       "<div>\n",
       "<style scoped>\n",
       "    .dataframe tbody tr th:only-of-type {\n",
       "        vertical-align: middle;\n",
       "    }\n",
       "\n",
       "    .dataframe tbody tr th {\n",
       "        vertical-align: top;\n",
       "    }\n",
       "\n",
       "    .dataframe thead th {\n",
       "        text-align: right;\n",
       "    }\n",
       "</style>\n",
       "<table border=\"1\" class=\"dataframe\">\n",
       "  <thead>\n",
       "    <tr style=\"text-align: right;\">\n",
       "      <th></th>\n",
       "      <th>count</th>\n",
       "      <th>%pct</th>\n",
       "    </tr>\n",
       "  </thead>\n",
       "  <tbody>\n",
       "    <tr>\n",
       "      <th>DoB</th>\n",
       "      <td>16</td>\n",
       "      <td>0.082474</td>\n",
       "    </tr>\n",
       "    <tr>\n",
       "      <th>Gender</th>\n",
       "      <td>16</td>\n",
       "      <td>0.082474</td>\n",
       "    </tr>\n",
       "  </tbody>\n",
       "</table>\n",
       "</div>"
      ],
      "text/plain": [
       "        count      %pct\n",
       "DoB        16  0.082474\n",
       "Gender     16  0.082474"
      ]
     },
     "execution_count": 17,
     "metadata": {},
     "output_type": "execute_result"
    }
   ],
   "source": [
    "null(df)"
   ]
  },
  {
   "cell_type": "markdown",
   "id": "639edfd7",
   "metadata": {},
   "source": [
    "To deal with null missing values, based on the data type and the percentage of null values, we can take different measures."
   ]
  },
  {
   "cell_type": "markdown",
   "id": "69e6b802",
   "metadata": {},
   "source": [
    "* **Strategy (1)**: The percentage is less than 5% : Remove missing values\n",
    "* **Strategy (2)**: The percentage is between 5% and 10% and type is categorical : Impute with mode\n",
    "* **Strategy (3)**: The percentage is more than 10% : Impute with KNN or ask expert"
   ]
  },
  {
   "cell_type": "code",
   "execution_count": 18,
   "id": "5075b0d1",
   "metadata": {},
   "outputs": [],
   "source": [
    "df = df.dropna(subset=['DoB','Gender'])"
   ]
  },
  {
   "cell_type": "markdown",
   "id": "63e5fe28",
   "metadata": {
    "id": "70b2f839-f99c-4739-9ed8-a6dc99c3f512",
    "jp-MarkdownHeadingCollapsed": true,
    "tags": []
   },
   "source": [
    "### <div style=\"color:white; background-color:#666; padding: 8px; border-radius: 5px\">**Feature Engineering**</div>"
   ]
  },
  {
   "cell_type": "markdown",
   "id": "9eca29e9",
   "metadata": {},
   "source": [
    "We should convert date values to date format."
   ]
  },
  {
   "cell_type": "code",
   "execution_count": 19,
   "id": "e32f8002",
   "metadata": {},
   "outputs": [],
   "source": [
    "df['DoB'] = pd.to_datetime(df['DoB'], format='%m/%d/%Y')\n",
    "df['Date'] = pd.to_datetime(df['Date'], format='%m/%d/%Y')"
   ]
  },
  {
   "cell_type": "markdown",
   "id": "ce9122f2",
   "metadata": {},
   "source": [
    "Now we can cacluate age instead of having date of birth."
   ]
  },
  {
   "cell_type": "code",
   "execution_count": 20,
   "id": "16741aef",
   "metadata": {},
   "outputs": [],
   "source": [
    "df['Age']=2023-df['DoB'].dt.year\n",
    "df=df.drop(['DoB'],axis=1)\n",
    "\n",
    "col_order = ['CustomerID', 'Age', 'Gender', 'Country', 'Purpose', 'Mortgage', 'Source', 'PropertyID', 'Type',\n",
    "            'Area','Price','Satisfaction', 'Date']\n",
    "\n",
    "df = df[col_order]"
   ]
  },
  {
   "cell_type": "markdown",
   "id": "ef9a0e5d",
   "metadata": {},
   "source": [
    "Then, we just extract year and month name for `Date` column."
   ]
  },
  {
   "cell_type": "code",
   "execution_count": 21,
   "id": "4ca20166",
   "metadata": {},
   "outputs": [],
   "source": [
    "df['Year']=df['Date'].dt.year\n",
    "df['Month']=df['Date'].dt.month_name()\n",
    "df=df.drop(['Date'],axis=1)"
   ]
  },
  {
   "cell_type": "markdown",
   "id": "6bbe6039",
   "metadata": {
    "id": "70b2f839-f99c-4739-9ed8-a6dc99c3f512",
    "jp-MarkdownHeadingCollapsed": true,
    "tags": []
   },
   "source": [
    "### <div style=\"color:white; background-color:#666; padding: 8px; border-radius: 5px\">**Handle Duplicants**</div>"
   ]
  },
  {
   "cell_type": "markdown",
   "id": "d25ba8bd-ba22-40f7-9e8e-0f57b8f0caf8",
   "metadata": {
    "id": "d25ba8bd-ba22-40f7-9e8e-0f57b8f0caf8"
   },
   "source": [
    "Duplicate rows can compromise the integrity of the dataset. If we have multiple identical rows, it can lead to inaccurate statistical analysis, misleading results, and duplicate entries in downstream processes. By identifying and removing duplicate rows, we ensure that the data accurately represents the underlying information."
   ]
  },
  {
   "cell_type": "code",
   "execution_count": 22,
   "id": "ae6bd490-0074-43da-9ad4-cfbe5b266a23",
   "metadata": {
    "colab": {
     "base_uri": "https://localhost:8080/"
    },
    "executionInfo": {
     "elapsed": 586,
     "status": "ok",
     "timestamp": 1685846898503,
     "user": {
      "displayName": "Mehrdad M. Dehghan",
      "userId": "08222177611817016206"
     },
     "user_tz": 240
    },
    "id": "ae6bd490-0074-43da-9ad4-cfbe5b266a23",
    "outputId": "2dec341e-35ba-4363-d10e-c3b7d00e8056"
   },
   "outputs": [
    {
     "data": {
      "text/plain": [
       "0"
      ]
     },
     "execution_count": 22,
     "metadata": {},
     "output_type": "execute_result"
    }
   ],
   "source": [
    "df.duplicated().sum()"
   ]
  },
  {
   "cell_type": "markdown",
   "id": "f434486b",
   "metadata": {},
   "source": [
    "Also, we can see whether we have a customer that have the same property twice or not, regardless the other factors, because other factors might change."
   ]
  },
  {
   "cell_type": "code",
   "execution_count": 23,
   "id": "e6cc4bc2-6b21-43fb-8524-fa71633bf813",
   "metadata": {
    "colab": {
     "base_uri": "https://localhost:8080/",
     "height": 308
    },
    "executionInfo": {
     "elapsed": 490,
     "status": "ok",
     "timestamp": 1685846904429,
     "user": {
      "displayName": "Mehrdad M. Dehghan",
      "userId": "08222177611817016206"
     },
     "user_tz": 240
    },
    "id": "e6cc4bc2-6b21-43fb-8524-fa71633bf813",
    "outputId": "759d27f6-7c23-4134-9913-0cc867840832"
   },
   "outputs": [
    {
     "data": {
      "text/html": [
       "<div>\n",
       "<style scoped>\n",
       "    .dataframe tbody tr th:only-of-type {\n",
       "        vertical-align: middle;\n",
       "    }\n",
       "\n",
       "    .dataframe tbody tr th {\n",
       "        vertical-align: top;\n",
       "    }\n",
       "\n",
       "    .dataframe thead th {\n",
       "        text-align: right;\n",
       "    }\n",
       "</style>\n",
       "<table border=\"1\" class=\"dataframe\">\n",
       "  <thead>\n",
       "    <tr style=\"text-align: right;\">\n",
       "      <th></th>\n",
       "      <th>CustomerID</th>\n",
       "      <th>Age</th>\n",
       "      <th>Gender</th>\n",
       "      <th>Country</th>\n",
       "      <th>Purpose</th>\n",
       "      <th>Mortgage</th>\n",
       "      <th>Source</th>\n",
       "      <th>PropertyID</th>\n",
       "      <th>Type</th>\n",
       "      <th>Area</th>\n",
       "      <th>Price</th>\n",
       "      <th>Satisfaction</th>\n",
       "      <th>Year</th>\n",
       "      <th>Month</th>\n",
       "    </tr>\n",
       "  </thead>\n",
       "  <tbody>\n",
       "  </tbody>\n",
       "</table>\n",
       "</div>"
      ],
      "text/plain": [
       "Empty DataFrame\n",
       "Columns: [CustomerID, Age, Gender, Country, Purpose, Mortgage, Source, PropertyID, Type, Area, Price, Satisfaction, Year, Month]\n",
       "Index: []"
      ]
     },
     "execution_count": 23,
     "metadata": {},
     "output_type": "execute_result"
    }
   ],
   "source": [
    "df[df.duplicated(subset=['CustomerID', 'PropertyID'])]"
   ]
  },
  {
   "cell_type": "markdown",
   "id": "d607e8ca-8140-4a9d-88e5-2f7d78f7123f",
   "metadata": {
    "id": "d607e8ca-8140-4a9d-88e5-2f7d78f7123f",
    "jp-MarkdownHeadingCollapsed": true,
    "tags": []
   },
   "source": [
    "### <div style=\"color:white; background-color:#666; padding: 8px; border-radius: 5px\">**Number Sanity Check**</div>"
   ]
  },
  {
   "cell_type": "markdown",
   "id": "60f88f25",
   "metadata": {},
   "source": [
    "Saity check is an important step in data cleaning because it helps identify and handle data values that fall outside the expected or valid range for a particular variable. In addition, we can check how many percentage of values are negative."
   ]
  },
  {
   "cell_type": "code",
   "execution_count": 24,
   "id": "604803c8",
   "metadata": {},
   "outputs": [
    {
     "name": "stdout",
     "output_type": "stream",
     "text": [
      "Age, min: 37, max: 92\n",
      "Area, min: 579.75, max: 1942.5\n",
      "Price, min: 153466.71, max: 503790.23\n"
     ]
    }
   ],
   "source": [
    "num_var = ['Age', 'Area', 'Price']\n",
    "\n",
    "for i in range(len(num_var)):\n",
    "    print('{}, min: {}, max: {}'.format(num_var[i] ,df[num_var[i]].min() ,df[num_var[i]].max()))"
   ]
  },
  {
   "cell_type": "markdown",
   "id": "8844e46c",
   "metadata": {
    "id": "d607e8ca-8140-4a9d-88e5-2f7d78f7123f",
    "jp-MarkdownHeadingCollapsed": true,
    "tags": []
   },
   "source": [
    "### <div style=\"color:white; background-color:#666; padding: 8px; border-radius: 5px\">**Categorical Possible Range**</div>"
   ]
  },
  {
   "cell_type": "markdown",
   "id": "2e6ffab6",
   "metadata": {},
   "source": [
    "By checking the possible range for categorical variables, we can identify any unexpected or erroneous values. This helps ensure the data's integrity and validity. It allows us to misspellings, or other inconsistencies in the categorical variable values."
   ]
  },
  {
   "cell_type": "code",
   "execution_count": 25,
   "id": "49e9f56d",
   "metadata": {},
   "outputs": [],
   "source": [
    "def cat_checker(Var):\n",
    "    unique_value=pd.Series(df[Var].unique()).sort_values().values\n",
    "    return unique_value"
   ]
  },
  {
   "cell_type": "code",
   "execution_count": 26,
   "id": "0a55650a",
   "metadata": {},
   "outputs": [
    {
     "data": {
      "text/html": [
       "<div>\n",
       "<style scoped>\n",
       "    .dataframe tbody tr th:only-of-type {\n",
       "        vertical-align: middle;\n",
       "    }\n",
       "\n",
       "    .dataframe tbody tr th {\n",
       "        vertical-align: top;\n",
       "    }\n",
       "\n",
       "    .dataframe thead th {\n",
       "        text-align: right;\n",
       "    }\n",
       "</style>\n",
       "<table border=\"1\" class=\"dataframe\">\n",
       "  <thead>\n",
       "    <tr style=\"text-align: right;\">\n",
       "      <th></th>\n",
       "      <th>CustomerID</th>\n",
       "      <th>Age</th>\n",
       "      <th>Gender</th>\n",
       "      <th>Country</th>\n",
       "      <th>Purpose</th>\n",
       "      <th>Mortgage</th>\n",
       "      <th>Source</th>\n",
       "      <th>PropertyID</th>\n",
       "      <th>Type</th>\n",
       "      <th>Area</th>\n",
       "      <th>Price</th>\n",
       "      <th>Satisfaction</th>\n",
       "      <th>Year</th>\n",
       "      <th>Month</th>\n",
       "    </tr>\n",
       "  </thead>\n",
       "  <tbody>\n",
       "    <tr>\n",
       "      <th>113</th>\n",
       "      <td>C0103</td>\n",
       "      <td>87</td>\n",
       "      <td>M</td>\n",
       "      <td>USA</td>\n",
       "      <td>Investment</td>\n",
       "      <td>No</td>\n",
       "      <td>Website</td>\n",
       "      <td>3040</td>\n",
       "      <td>Apartment</td>\n",
       "      <td>670.89</td>\n",
       "      <td>204292.49</td>\n",
       "      <td>2</td>\n",
       "      <td>2007</td>\n",
       "      <td>June</td>\n",
       "    </tr>\n",
       "  </tbody>\n",
       "</table>\n",
       "</div>"
      ],
      "text/plain": [
       "    CustomerID  Age Gender Country     Purpose Mortgage   Source PropertyID  \\\n",
       "113      C0103   87      M     USA  Investment       No  Website       3040   \n",
       "\n",
       "          Type    Area      Price Satisfaction  Year Month  \n",
       "113  Apartment  670.89  204292.49            2  2007  June  "
      ]
     },
     "execution_count": 26,
     "metadata": {},
     "output_type": "execute_result"
    }
   ],
   "source": [
    "df.sample(1)"
   ]
  },
  {
   "cell_type": "code",
   "execution_count": 27,
   "id": "003293f5",
   "metadata": {},
   "outputs": [
    {
     "data": {
      "text/plain": [
       "array(['F', 'M'], dtype=object)"
      ]
     },
     "execution_count": 27,
     "metadata": {},
     "output_type": "execute_result"
    }
   ],
   "source": [
    "cat_checker('Gender')"
   ]
  },
  {
   "cell_type": "code",
   "execution_count": 28,
   "id": "b3c3f178",
   "metadata": {},
   "outputs": [
    {
     "data": {
      "text/plain": [
       "array(['Investment', 'Personal Use'], dtype=object)"
      ]
     },
     "execution_count": 28,
     "metadata": {},
     "output_type": "execute_result"
    }
   ],
   "source": [
    "cat_checker('Purpose')"
   ]
  },
  {
   "cell_type": "code",
   "execution_count": 29,
   "id": "86b0477e",
   "metadata": {},
   "outputs": [
    {
     "data": {
      "text/plain": [
       "array(['No', 'Yes'], dtype=object)"
      ]
     },
     "execution_count": 29,
     "metadata": {},
     "output_type": "execute_result"
    }
   ],
   "source": [
    "cat_checker('Mortgage')"
   ]
  },
  {
   "cell_type": "code",
   "execution_count": 30,
   "id": "c8457905",
   "metadata": {},
   "outputs": [
    {
     "data": {
      "text/plain": [
       "array(['Agency', 'Client', 'Website'], dtype=object)"
      ]
     },
     "execution_count": 30,
     "metadata": {},
     "output_type": "execute_result"
    }
   ],
   "source": [
    "cat_checker('Source')"
   ]
  },
  {
   "cell_type": "code",
   "execution_count": 31,
   "id": "512cd85a",
   "metadata": {},
   "outputs": [
    {
     "data": {
      "text/plain": [
       "array(['Apartment', 'Office'], dtype=object)"
      ]
     },
     "execution_count": 31,
     "metadata": {},
     "output_type": "execute_result"
    }
   ],
   "source": [
    "cat_checker('Type')"
   ]
  },
  {
   "cell_type": "code",
   "execution_count": 32,
   "id": "39feb23a",
   "metadata": {},
   "outputs": [
    {
     "data": {
      "text/plain": [
       "array([1, 2, 3, 4, 5], dtype=object)"
      ]
     },
     "execution_count": 32,
     "metadata": {},
     "output_type": "execute_result"
    }
   ],
   "source": [
    "cat_checker('Satisfaction')"
   ]
  },
  {
   "cell_type": "markdown",
   "id": "3538ef89",
   "metadata": {
    "id": "d607e8ca-8140-4a9d-88e5-2f7d78f7123f",
    "jp-MarkdownHeadingCollapsed": true,
    "tags": []
   },
   "source": [
    "### <div style=\"color:white; background-color:#666; padding: 8px; border-radius: 5px\">**Data Analysis**</div>"
   ]
  },
  {
   "cell_type": "markdown",
   "id": "31f97204",
   "metadata": {},
   "source": [
    "In this part, we want to do some statistical analysis on data breakdown on country. The questions that we are trying to answer are the following:"
   ]
  },
  {
   "cell_type": "markdown",
   "id": "26b9a1b3",
   "metadata": {},
   "source": [
    "**Age Distribution of Customers**"
   ]
  },
  {
   "cell_type": "code",
   "execution_count": 35,
   "id": "96b0dc79",
   "metadata": {},
   "outputs": [],
   "source": [
    "def age_dist(country):\n",
    "    country_df = df[df['Country'] == country]\n",
    "    age_range = pd.cut(\n",
    "        country_df['Age'],\n",
    "        bins = [0, 30, 50, 70, 100],\n",
    "        labels = ['0-30' , '31-50', '51-70' , '71-100']\n",
    "    )\n",
    "    return age_range.value_counts()"
   ]
  },
  {
   "cell_type": "markdown",
   "id": "92e30a69",
   "metadata": {},
   "source": [
    "**Average Price**"
   ]
  },
  {
   "cell_type": "code",
   "execution_count": 40,
   "id": "18ab55e4",
   "metadata": {},
   "outputs": [
    {
     "name": "stdout",
     "output_type": "stream",
     "text": [
      "Average price in USA: 271020.37464968156\n",
      "Average price in Belgium: 229075.47\n",
      "Average price in Russia: 278828.83499999996\n",
      "Average price in USA : 316315.58666666667\n",
      "Average price in Denmark: 257183.48\n",
      "Average price in Canada: 274069.38428571424\n",
      "Average price in Mexico: 338181.18\n",
      "Average price in UK: 220142.68\n",
      "Average price in Germany: 205098.21\n"
     ]
    }
   ],
   "source": [
    "def avg_price(country):\n",
    "    country_df = df[df['Country'] == country]\n",
    "    return country_df['Price'].mean()\n",
    "\n",
    "unq_country = df['Country'].unique()\n",
    "\n",
    "for country in unq_country:\n",
    "    average_price = avg_price(country)\n",
    "    print(f\"Average price in {country}: {average_price}\")"
   ]
  },
  {
   "cell_type": "markdown",
   "id": "5399250d",
   "metadata": {},
   "source": [
    "**Distribution of Sales across Months and Years**"
   ]
  },
  {
   "cell_type": "code",
   "execution_count": 42,
   "id": "c81fe9f8",
   "metadata": {},
   "outputs": [],
   "source": [
    "def sales_dist(country):\n",
    "    country_df = df[df['Country'] == country]\n",
    "    return country_df.groupby(['Year', 'Month']).size()"
   ]
  },
  {
   "cell_type": "markdown",
   "id": "98ffc8c4",
   "metadata": {},
   "source": [
    "**Percentage of Sales from each source**"
   ]
  },
  {
   "cell_type": "code",
   "execution_count": 49,
   "id": "25d150cd",
   "metadata": {},
   "outputs": [],
   "source": [
    "def ads_effect(country):\n",
    "    country_df = df[df['Country'] == country]\n",
    "    return country_df['Source'].value_counts(normalize=True)*100"
   ]
  },
  {
   "cell_type": "markdown",
   "id": "b91b5af3",
   "metadata": {},
   "source": [
    "**Correlation Analysis among age, price and area**"
   ]
  },
  {
   "cell_type": "code",
   "execution_count": 54,
   "id": "e94336f5",
   "metadata": {},
   "outputs": [],
   "source": [
    "def cor_age_price_area(country):\n",
    "    country_df = df[df['Country'] == country]\n",
    "    \n",
    "    return country_df[['Age','Price', 'Area']].corr()"
   ]
  },
  {
   "cell_type": "code",
   "execution_count": null,
   "id": "5998a36e",
   "metadata": {},
   "outputs": [],
   "source": []
  }
 ],
 "metadata": {
  "colab": {
   "collapsed_sections": [
    "7db7ac24-9861-471b-9958-fb11246d734a",
    "ed358722-04ff-4665-a60b-d00e74839719",
    "70b2f839-f99c-4739-9ed8-a6dc99c3f512",
    "a806dd0b-f0c2-4831-a45b-a1570ed14fc9",
    "58bbcecd-c5e8-4159-8e0d-8f40e12ba8e3",
    "0ddf642e-22fb-4915-8aba-ef030bcd1807",
    "d05a807c-3202-4d5e-ba61-27fc9a555832",
    "d607e8ca-8140-4a9d-88e5-2f7d78f7123f",
    "2137493c-b583-4d29-9e9e-0c2072fe35e1",
    "321e6616-7ef9-4d41-abea-a37eed40641f",
    "fd1ffe83-31fa-4f3a-af92-785c402cb84e",
    "321722d8-e918-4b85-b2ab-295d348babcf"
   ],
   "provenance": []
  },
  "kernelspec": {
   "display_name": "Python 3 (ipykernel)",
   "language": "python",
   "name": "python3"
  },
  "language_info": {
   "codemirror_mode": {
    "name": "ipython",
    "version": 3
   },
   "file_extension": ".py",
   "mimetype": "text/x-python",
   "name": "python",
   "nbconvert_exporter": "python",
   "pygments_lexer": "ipython3",
   "version": "3.10.9"
  }
 },
 "nbformat": 4,
 "nbformat_minor": 5
}
